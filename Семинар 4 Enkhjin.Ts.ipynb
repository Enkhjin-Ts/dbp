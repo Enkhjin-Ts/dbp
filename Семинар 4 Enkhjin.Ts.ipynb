{
 "cells": [
  {
   "cell_type": "code",
   "execution_count": 1,
   "id": "37723f44-cd27-4bfa-aff7-6bf93d72c989",
   "metadata": {
    "scrolled": true
   },
   "outputs": [
    {
     "data": {
      "text/plain": [
       "array([50, 51, 52, 53, 54, 55, 56, 57, 58, 59, 60, 61, 62, 63, 64, 65, 66,\n",
       "       67, 68, 69, 70, 71, 72, 73, 74, 75, 76, 77, 78, 79, 80, 81, 82, 83,\n",
       "       84, 85, 86, 87, 88, 89, 90, 91, 92, 93, 94, 95, 96, 97, 98, 99])"
      ]
     },
     "execution_count": 1,
     "metadata": {},
     "output_type": "execute_result"
    }
   ],
   "source": [
    "#Дасгал 1\n",
    "import numpy as np\n",
    "ls = np.arange(50,100)\n",
    "ls"
   ]
  },
  {
   "cell_type": "code",
   "execution_count": 2,
   "id": "e62e4549-71fb-495e-adde-d302a88307c8",
   "metadata": {},
   "outputs": [
    {
     "data": {
      "text/plain": [
       "array([1., 1., 1., 1., 1., 1., 1., 1., 1., 1.])"
      ]
     },
     "execution_count": 2,
     "metadata": {},
     "output_type": "execute_result"
    }
   ],
   "source": [
    "#Дасгал 2\n",
    "np.ones(10)"
   ]
  },
  {
   "cell_type": "code",
   "execution_count": 3,
   "id": "32ad270f-2249-478b-977c-a59f9882beca",
   "metadata": {},
   "outputs": [
    {
     "data": {
      "text/plain": [
       "array([0., 0., 0., 0., 0., 0., 0., 0., 0., 0.])"
      ]
     },
     "execution_count": 3,
     "metadata": {},
     "output_type": "execute_result"
    }
   ],
   "source": [
    "# Дасгал2\n",
    "np.zeros(10)"
   ]
  },
  {
   "cell_type": "code",
   "execution_count": 4,
   "id": "f77e5f37-af04-40ce-bfe7-46f689b20a40",
   "metadata": {},
   "outputs": [
    {
     "data": {
      "text/plain": [
       "array([6., 6., 6., 6., 6., 6., 6., 6., 6., 6.])"
      ]
     },
     "execution_count": 4,
     "metadata": {},
     "output_type": "execute_result"
    }
   ],
   "source": [
    "# Дасгал2\n",
    "np.zeros(10)+6"
   ]
  },
  {
   "cell_type": "code",
   "execution_count": 13,
   "id": "9758b165-0b28-40f9-807a-bfc049ee52c4",
   "metadata": {},
   "outputs": [
    {
     "name": "stdout",
     "output_type": "stream",
     "text": [
      "[[20 21 22 23]\n",
      " [24 25 26 27]\n",
      " [28 29 30 31]]\n"
     ]
    }
   ],
   "source": [
    "# Дасгал3\n",
    "pl = np.arange(20,32)\n",
    "pk = np.reshape(pl, (3,4), 'C')\n",
    "print(pk)"
   ]
  },
  {
   "cell_type": "code",
   "execution_count": 14,
   "id": "d2b7c99f-fcd0-4947-82ab-bddba4d4ffdd",
   "metadata": {},
   "outputs": [
    {
     "data": {
      "text/plain": [
       "array([[1, 0, 0],\n",
       "       [0, 1, 0],\n",
       "       [0, 0, 1]])"
      ]
     },
     "execution_count": 14,
     "metadata": {},
     "output_type": "execute_result"
    }
   ],
   "source": [
    "# Дасгал4\n",
    "r = [1,1,1]\n",
    "ar= np.diag(r)\n",
    "ar"
   ]
  },
  {
   "cell_type": "code",
   "execution_count": 11,
   "id": "3306cd0a-66e6-4181-9a7c-c4a9336dec5d",
   "metadata": {},
   "outputs": [
    {
     "data": {
      "text/plain": [
       "array([[1, 0, 0, 0, 0],\n",
       "       [0, 2, 0, 0, 0],\n",
       "       [0, 0, 3, 0, 0],\n",
       "       [0, 0, 0, 4, 0],\n",
       "       [0, 0, 0, 0, 5]])"
      ]
     },
     "execution_count": 11,
     "metadata": {},
     "output_type": "execute_result"
    }
   ],
   "source": [
    "# Дасгал 5\n",
    "a = np.arange(1,6)\n",
    "b = np.diag(x)\n",
    "b"
   ]
  },
  {
   "cell_type": "code",
   "execution_count": 10,
   "id": "7a399c50-0811-4b7c-a5ce-8741aa2a0a8d",
   "metadata": {},
   "outputs": [
    {
     "name": "stdout",
     "output_type": "stream",
     "text": [
      "240\n",
      "[ 44 102  20  74]\n",
      "[ 44 186  10]\n"
     ]
    }
   ],
   "source": [
    "#Дасгал 6\n",
    "import numpy as np\n",
    "f = np.array([[8,15,5,16],[35,85,12,54],[1,2,3,4]])\n",
    "print(sum(sum(f)))\n",
    "print(f.sum(axis=0))\n",
    "print(f.sum(axis=1))"
   ]
  },
  {
   "cell_type": "code",
   "execution_count": 28,
   "id": "3346df34-5568-4650-bebc-50c0ddd5fbe5",
   "metadata": {},
   "outputs": [],
   "source": [
    "NEYMAR_Salary = [59199687,599199687,62291313,48642850,48874633,49416288,34282846,20538110,13443585,15207527]\n",
    "RONALDO_Salary = [32498507,32498507,65248182,66470791,66379256,41057823,40332055,33890309,35406722,39862155]\n",
    "MESSI_Salary = [54000000,66846489,66846489,80834788,83335117,82785363,46677502,45854204,34557919,36113637]\n",
    "KARIMNEMZEMA_Salary = [19444503,21388953,22458401,22875000,24559380,26243760,1512601,1364204,1620564,1669178]\n",
    "MBAPPE_Salary = [72000000,7200000,34320405,33765858,20030560,19307286,19307286,1305840,1250480,0]\n",
    "KANTE_Salary = [18300130,18300130,19749876,20247595,10760170,11006883,3010243,211775,0,0]\n",
    "SONHEUNGMIN_Salary = [9880000,9880000,7856725,8054587,4938673,5024513,5139717,0,5271178,2492762]\n",
    "OSCAR_Salary = [17832626,17832627,18995624,20158622,26540100,0,30000000,38199000,40108950,42018900]\n",
    "DEBRUYNE_Salary = [17632688,17632688,18862876,20093064,21323252,290951,1512601,7317073,7682927,13445120]\n",
    "KOULIBALY_Salary = [18673000,18673000,15000000,20000000,23200000,0,1512601,1512601,1512601,23300130]\n",
    "#Matrix\n",
    "Salary = np.array([NEYMAR_Salary, RONALDO_Salary, MESSI_Salary, KARIMNEMZEMA_Salary, MBAPPE_Salary, KANTE_Salary, SONHEUNGMIN_Salary,OSCAR_Salary, DEBRUYNE_Salary, KOULIBALY_Salary])\n",
    "\n",
    "#Games \n",
    "NEYMAR_G = [708]\n",
    "RONALDO_G = [900]\n",
    "MESSI_G = [800]\n",
    "KARIMNEMZEMA_G = [574]\n",
    "MBAPPE_G = [454]\n",
    "KANTE_G = [375]\n",
    "SONHEUNGMIN_G = [580]\n",
    "OSCAR_G = [458]\n",
    "DEBRUYNE_G = [520]\n",
    "KOULIBALY_G = [560]\n",
    "Games = np.array([NEYMAR_G, RONALDO_G,MESSI_G,KARIMNEMZEMA_G,MBAPPE_G,KANTE_G, SONHEUNGMIN_G,OSCAR_G, DEBRUYNE_G, KOULIBALY_G])\n",
    "\n",
    "#Field Goals\n",
    "NEYMAR_FG = [436]\n",
    "RONALDO_FG = [700]\n",
    "MESSI_FG = [750]\n",
    "KARIMNEMZEMA_FG= [210]\n",
    "MBAPPE_FG=[200]\n",
    "KANTE_FG= [110]\n",
    "SONHEUNGMIN_FG= [210]\n",
    "OSCAR_FG= [85]\n",
    "DEBRUYNE_FG= [180]\n",
    "KOULIBALY_FG= [170]\n",
    "FIELDGOALS= np.array([NEYMAR_FG,RONALDO_FG,MESSI_FG,KARIMNEMZEMA_FG,MBAPPE_FG,KANTE_FG,SONHEUNGMIN_FG,OSCAR_FG,DEBRUYNE_FG,KOULIBALY_FG])"
   ]
  },
  {
   "cell_type": "code",
   "execution_count": 34,
   "id": "dbe8b287-49c8-4838-b3b9-abe0941a389f",
   "metadata": {},
   "outputs": [
    {
     "name": "stdout",
     "output_type": "stream",
     "text": [
      "Salary COL SUM =  [319461141 809452081 331629891 341143155 329941141 235132867 183287452\n",
      " 150193116 140854926 174109409]\n",
      "Salary ROW SUM =  [951096526 453644307 597851508 143136544 208487715 101586802  58538155\n",
      " 251686449 125793240 123383933]\n"
     ]
    }
   ],
   "source": [
    "# 7 Salary mor baganiin niilber\n",
    "print(\"Salary COL SUM = \", Salary.sum(axis=0))\n",
    "print(\"Salary ROW SUM = \", Salary.sum(axis=1))"
   ]
  },
  {
   "cell_type": "code",
   "execution_count": 35,
   "id": "ebfe0979-754b-43c5-b374-d400def5b42d",
   "metadata": {},
   "outputs": [
    {
     "name": "stdout",
     "output_type": "stream",
     "text": [
      "Games COLUMN SUM =  [5929]\n",
      "Games ROW SUM =  [708 900 800 574 454 375 580 458 520 560]\n"
     ]
    }
   ],
   "source": [
    "# 7 Games mor baganiin niilber\n",
    "print(\"Games COLUMN SUM = \", Games.sum(axis=0))\n",
    "print(\"Games ROW SUM = \", Games.sum(axis=1))"
   ]
  },
  {
   "cell_type": "code",
   "execution_count": 36,
   "id": "83d538cb-931e-4f06-9fda-06d327cd15ec",
   "metadata": {},
   "outputs": [
    {
     "name": "stdout",
     "output_type": "stream",
     "text": [
      "FieldGoals COL SUM =  [3051]\n",
      "FieldGoals ROW SUM =  [436 700 750 210 200 110 210  85 180 170]\n"
     ]
    }
   ],
   "source": [
    "# 7 FieldGoals mor baganiin niilber\n",
    "print(\"FieldGoals COL SUM = \", FIELDGOALS.sum(axis=0))\n",
    "print(\"FieldGoals ROW SUM = \", FIELDGOALS.sum(axis=1))"
   ]
  },
  {
   "cell_type": "code",
   "execution_count": null,
   "id": "2f5dcdb2-0019-4cde-9502-2e3eb80ca20e",
   "metadata": {},
   "outputs": [],
   "source": []
  }
 ],
 "metadata": {
  "kernelspec": {
   "display_name": "Python 3 (ipykernel)",
   "language": "python",
   "name": "python3"
  },
  "language_info": {
   "codemirror_mode": {
    "name": "ipython",
    "version": 3
   },
   "file_extension": ".py",
   "mimetype": "text/x-python",
   "name": "python",
   "nbconvert_exporter": "python",
   "pygments_lexer": "ipython3",
   "version": "3.11.5"
  }
 },
 "nbformat": 4,
 "nbformat_minor": 5
}
